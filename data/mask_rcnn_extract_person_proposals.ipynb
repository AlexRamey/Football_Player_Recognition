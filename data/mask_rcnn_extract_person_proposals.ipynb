{
  "nbformat": 4,
  "nbformat_minor": 0,
  "metadata": {
    "kernelspec": {
      "name": "python3",
      "display_name": "Python 3"
    },
    "language_info": {
      "codemirror_mode": {
        "name": "ipython",
        "version": 3
      },
      "file_extension": ".py",
      "mimetype": "text/x-python",
      "name": "python",
      "nbconvert_exporter": "python",
      "pygments_lexer": "ipython3",
      "version": "3.7.4"
    },
    "colab": {
      "name": "demo.ipynb",
      "provenance": []
    },
    "accelerator": "GPU"
  },
  "cells": [
    {
      "cell_type": "markdown",
      "metadata": {
        "colab_type": "text",
        "id": "NoREPMqktvzT"
      },
      "source": [
        "# Mask R-CNN Demo\n",
        "\n",
        "A quick intro to using the pre-trained model to detect and segment objects.\n",
        "\n",
        "** Modified to extract football player bounding boxes from selected broadcast frames. After extraction, padding and resizing to 256x256 occur before saving to output directory."
      ]
    },
    {
      "cell_type": "code",
      "execution_count": 10,
      "metadata": {
        "colab": {
          "base_uri": "https://localhost:8080/",
          "height": 68
        },
        "colab_type": "code",
        "id": "oCnE-7N8X1xW",
        "outputId": "e9e181da-beac-4394-847b-ee36400345e8"
      },
      "outputs": [
        {
          "name": "stdout",
          "output_type": "stream",
          "text": [
            "Mounted at /content/gdrive\n",
            " Football_Player_Recognition\t    Mask_RCNN\n",
            " football_player_recognition.json  'person_proposals (1)'\n"
          ]
        }
      ],
      "source": [
        "#Note: run command below will prompt your Google account permission\n",
        "from google.colab import drive\n",
        "drive.mount('/content/gdrive',force_remount=True)\n",
        "\n",
        "#Now test if the shared folder is in the right path in mounted gdrive\n",
        "#The command below should show two sub-folders Task1/ and Task2/\n",
        "!ls \"gdrive/My Drive/football_project\""
      ]
    },
    {
      "cell_type": "code",
      "execution_count": 0,
      "metadata": {
        "colab": {},
        "colab_type": "code",
        "id": "OAm7X6d5tvzV"
      },
      "outputs": [],
      "source": [
        "%tensorflow_version 1.15\n",
        "import imageio\n",
        "import json\n",
        "import os\n",
        "import sys\n",
        "import random\n",
        "import math\n",
        "import numpy as np\n",
        "import skimage.io\n",
        "import matplotlib\n",
        "import matplotlib.pyplot as plt\n",
        "from PIL import Image\n",
        "\n",
        "# Root directory of the project\n",
        "ROOT_DIR = os.path.abspath(\"gdrive/My Drive/football_project/Mask_RCNN/\")\n",
        "\n",
        "# Import Mask RCNN\n",
        "sys.path.append(ROOT_DIR)  # To find local version of the library\n",
        "from mrcnn import utils\n",
        "import mrcnn.model as modellib\n",
        "from mrcnn import visualize\n",
        "# Import COCO config\n",
        "sys.path.append(os.path.join(ROOT_DIR, \"samples/coco/\"))  # To find local version\n",
        "import coco\n",
        "\n",
        "%matplotlib inline \n",
        "\n",
        "# Directory to save logs and trained model\n",
        "MODEL_DIR = os.path.join(ROOT_DIR, \"logs\")\n",
        "\n",
        "# Local path to trained weights file\n",
        "COCO_MODEL_PATH = os.path.join(ROOT_DIR, \"mask_rcnn_coco.h5\")\n",
        "# Download COCO trained weights from Releases if needed\n",
        "if not os.path.exists(COCO_MODEL_PATH):\n",
        "    utils.download_trained_weights(COCO_MODEL_PATH)\n"
      ]
    },
    {
      "cell_type": "markdown",
      "metadata": {
        "colab_type": "text",
        "id": "Gw-gZNFMtvza"
      },
      "source": [
        "## Configurations\n",
        "\n",
        "We'll be using a model trained on the MS-COCO dataset. The configurations of this model are in the ```CocoConfig``` class in ```coco.py```.\n",
        "\n",
        "For inferencing, modify the configurations a bit to fit the task. To do so, sub-class the ```CocoConfig``` class and override the attributes you need to change."
      ]
    },
    {
      "cell_type": "code",
      "execution_count": 12,
      "metadata": {
        "colab": {
          "base_uri": "https://localhost:8080/",
          "height": 901
        },
        "colab_type": "code",
        "id": "OF6xDeTHtvzb",
        "outputId": "e01a7f2d-504a-49b7-adde-33b43dfeb35e"
      },
      "outputs": [
        {
          "name": "stdout",
          "output_type": "stream",
          "text": [
            "\n",
            "Configurations:\n",
            "BACKBONE                       resnet101\n",
            "BACKBONE_STRIDES               [4, 8, 16, 32, 64]\n",
            "BATCH_SIZE                     1\n",
            "BBOX_STD_DEV                   [0.1 0.1 0.2 0.2]\n",
            "COMPUTE_BACKBONE_SHAPE         None\n",
            "DETECTION_MAX_INSTANCES        100\n",
            "DETECTION_MIN_CONFIDENCE       0.7\n",
            "DETECTION_NMS_THRESHOLD        0.3\n",
            "FPN_CLASSIF_FC_LAYERS_SIZE     1024\n",
            "GPU_COUNT                      1\n",
            "GRADIENT_CLIP_NORM             5.0\n",
            "IMAGES_PER_GPU                 1\n",
            "IMAGE_CHANNEL_COUNT            3\n",
            "IMAGE_MAX_DIM                  1024\n",
            "IMAGE_META_SIZE                93\n",
            "IMAGE_MIN_DIM                  800\n",
            "IMAGE_MIN_SCALE                0\n",
            "IMAGE_RESIZE_MODE              square\n",
            "IMAGE_SHAPE                    [1024 1024    3]\n",
            "LEARNING_MOMENTUM              0.9\n",
            "LEARNING_RATE                  0.001\n",
            "LOSS_WEIGHTS                   {'rpn_class_loss': 1.0, 'rpn_bbox_loss': 1.0, 'mrcnn_class_loss': 1.0, 'mrcnn_bbox_loss': 1.0, 'mrcnn_mask_loss': 1.0}\n",
            "MASK_POOL_SIZE                 14\n",
            "MASK_SHAPE                     [28, 28]\n",
            "MAX_GT_INSTANCES               100\n",
            "MEAN_PIXEL                     [123.7 116.8 103.9]\n",
            "MINI_MASK_SHAPE                (56, 56)\n",
            "NAME                           coco\n",
            "NUM_CLASSES                    81\n",
            "POOL_SIZE                      7\n",
            "POST_NMS_ROIS_INFERENCE        1000\n",
            "POST_NMS_ROIS_TRAINING         2000\n",
            "PRE_NMS_LIMIT                  6000\n",
            "ROI_POSITIVE_RATIO             0.33\n",
            "RPN_ANCHOR_RATIOS              [0.5, 1, 2]\n",
            "RPN_ANCHOR_SCALES              (32, 64, 128, 256, 512)\n",
            "RPN_ANCHOR_STRIDE              1\n",
            "RPN_BBOX_STD_DEV               [0.1 0.1 0.2 0.2]\n",
            "RPN_NMS_THRESHOLD              0.7\n",
            "RPN_TRAIN_ANCHORS_PER_IMAGE    256\n",
            "STEPS_PER_EPOCH                1000\n",
            "TOP_DOWN_PYRAMID_SIZE          256\n",
            "TRAIN_BN                       False\n",
            "TRAIN_ROIS_PER_IMAGE           200\n",
            "USE_MINI_MASK                  True\n",
            "USE_RPN_ROIS                   True\n",
            "VALIDATION_STEPS               50\n",
            "WEIGHT_DECAY                   0.0001\n",
            "\n",
            "\n"
          ]
        }
      ],
      "source": [
        "class InferenceConfig(coco.CocoConfig):\n",
        "    # Set batch size to 1 since we'll be running inference on\n",
        "    # one image at a time. Batch size = GPU_COUNT * IMAGES_PER_GPU\n",
        "    GPU_COUNT = 1\n",
        "    IMAGES_PER_GPU = 1\n",
        "\n",
        "config = InferenceConfig()\n",
        "config.display()"
      ]
    },
    {
      "cell_type": "markdown",
      "metadata": {
        "colab_type": "text",
        "id": "5v672020tvze"
      },
      "source": [
        "## Create Model and Load Trained Weights"
      ]
    },
    {
      "cell_type": "code",
      "execution_count": 0,
      "metadata": {
        "colab": {},
        "colab_type": "code",
        "id": "WLfcTKrWtvzf",
        "scrolled": false
      },
      "outputs": [],
      "source": [
        "# Create model object in inference mode.\n",
        "model = modellib.MaskRCNN(mode=\"inference\", model_dir=MODEL_DIR, config=config)\n",
        "\n",
        "# Load weights trained on MS-COCO\n",
        "model.load_weights(COCO_MODEL_PATH, by_name=True)"
      ]
    },
    {
      "cell_type": "markdown",
      "metadata": {
        "colab_type": "text",
        "id": "MXXiarSStvzi"
      },
      "source": [
        "## Class Names\n",
        "\n",
        "The model classifies objects and returns class IDs, which are integer value that identify each class. Some datasets assign integer values to their classes and some don't. For example, in the MS-COCO dataset, the 'person' class is 1 and 'teddy bear' is 88. The IDs are often sequential, but not always. The COCO dataset, for example, has classes associated with class IDs 70 and 72, but not 71.\n",
        "\n",
        "To improve consistency, and to support training on data from multiple sources at the same time, our ```Dataset``` class assigns it's own sequential integer IDs to each class. For example, if you load the COCO dataset using our ```Dataset``` class, the 'person' class would get class ID = 1 (just like COCO) and the 'teddy bear' class is 78 (different from COCO). Keep that in mind when mapping class IDs to class names.\n",
        "\n",
        "To get the list of class names, you'd load the dataset and then use the ```class_names``` property like this.\n",
        "```\n",
        "# Load COCO dataset\n",
        "dataset = coco.CocoDataset()\n",
        "dataset.load_coco(COCO_DIR, \"train\")\n",
        "dataset.prepare()\n",
        "\n",
        "# Print class names\n",
        "print(dataset.class_names)\n",
        "```\n",
        "\n",
        "We don't want to require you to download the COCO dataset just to run this demo, so we're including the list of class names below. The index of the class name in the list represent its ID (first class is 0, second is 1, third is 2, ...etc.)"
      ]
    },
    {
      "cell_type": "code",
      "execution_count": 0,
      "metadata": {
        "colab": {},
        "colab_type": "code",
        "id": "uAggj-Bvtvzj"
      },
      "outputs": [],
      "source": [
        "# COCO Class names\n",
        "# Index of the class in the list is its ID. For example, to get ID of\n",
        "# the teddy bear class, use: class_names.index('teddy bear')\n",
        "class_names = ['BG', 'person', 'bicycle', 'car', 'motorcycle', 'airplane',\n",
        "               'bus', 'train', 'truck', 'boat', 'traffic light',\n",
        "               'fire hydrant', 'stop sign', 'parking meter', 'bench', 'bird',\n",
        "               'cat', 'dog', 'horse', 'sheep', 'cow', 'elephant', 'bear',\n",
        "               'zebra', 'giraffe', 'backpack', 'umbrella', 'handbag', 'tie',\n",
        "               'suitcase', 'frisbee', 'skis', 'snowboard', 'sports ball',\n",
        "               'kite', 'baseball bat', 'baseball glove', 'skateboard',\n",
        "               'surfboard', 'tennis racket', 'bottle', 'wine glass', 'cup',\n",
        "               'fork', 'knife', 'spoon', 'bowl', 'banana', 'apple',\n",
        "               'sandwich', 'orange', 'broccoli', 'carrot', 'hot dog', 'pizza',\n",
        "               'donut', 'cake', 'chair', 'couch', 'potted plant', 'bed',\n",
        "               'dining table', 'toilet', 'tv', 'laptop', 'mouse', 'remote',\n",
        "               'keyboard', 'cell phone', 'microwave', 'oven', 'toaster',\n",
        "               'sink', 'refrigerator', 'book', 'clock', 'vase', 'scissors',\n",
        "               'teddy bear', 'hair drier', 'toothbrush']"
      ]
    },
    {
      "cell_type": "markdown",
      "metadata": {
        "colab_type": "text",
        "id": "aDfWNGKmtvzm"
      },
      "source": [
        "## Run Object Detection"
      ]
    },
    {
      "cell_type": "code",
      "execution_count": 15,
      "metadata": {
        "colab": {
          "base_uri": "https://localhost:8080/",
          "height": 1000
        },
        "colab_type": "code",
        "id": "TiXs7dZ1tvzm",
        "outputId": "3e7a2aa1-648b-4b03-e50d-4d5dee8ea715",
        "scrolled": false
      },
      "outputs": [
        {
          "name": "stdout",
          "output_type": "stream",
          "text": [
            "Processing Image:20/1832\n",
            "Processing Image:40/1832\n",
            "Processing Image:60/1832\n",
            "Processing Image:80/1832\n",
            "Processing Image:100/1832\n",
            "Processing Image:120/1832\n",
            "Processing Image:140/1832\n",
            "Processing Image:160/1832\n",
            "Processing Image:180/1832\n",
            "Processing Image:200/1832\n",
            "Processing Image:220/1832\n",
            "Processing Image:240/1832\n",
            "Processing Image:260/1832\n",
            "Processing Image:280/1832\n",
            "Processing Image:300/1832\n",
            "Processing Image:320/1832\n",
            "Processing Image:340/1832\n",
            "Processing Image:360/1832\n",
            "Processing Image:380/1832\n",
            "Processing Image:400/1832\n",
            "Processing Image:420/1832\n",
            "Processing Image:440/1832\n",
            "Processing Image:460/1832\n",
            "Processing Image:480/1832\n",
            "Processing Image:500/1832\n",
            "Processing Image:520/1832\n",
            "Processing Image:540/1832\n",
            "Processing Image:560/1832\n",
            "Processing Image:580/1832\n",
            "Processing Image:600/1832\n",
            "Processing Image:620/1832\n",
            "Processing Image:640/1832\n",
            "Processing Image:660/1832\n",
            "Processing Image:680/1832\n",
            "Processing Image:700/1832\n",
            "Processing Image:720/1832\n",
            "Processing Image:740/1832\n",
            "Processing Image:760/1832\n",
            "Processing Image:780/1832\n",
            "Processing Image:800/1832\n",
            "Processing Image:820/1832\n",
            "Processing Image:840/1832\n",
            "Processing Image:860/1832\n",
            "Processing Image:880/1832\n",
            "Processing Image:900/1832\n",
            "Processing Image:920/1832\n",
            "Processing Image:940/1832\n",
            "Processing Image:960/1832\n",
            "Processing Image:980/1832\n",
            "Processing Image:1000/1832\n",
            "Processing Image:1020/1832\n",
            "Processing Image:1040/1832\n",
            "Processing Image:1060/1832\n",
            "Processing Image:1080/1832\n",
            "Processing Image:1100/1832\n",
            "Processing Image:1120/1832\n",
            "Processing Image:1140/1832\n",
            "Processing Image:1160/1832\n",
            "Processing Image:1180/1832\n",
            "Processing Image:1200/1832\n",
            "Processing Image:1220/1832\n",
            "Processing Image:1240/1832\n",
            "Processing Image:1260/1832\n",
            "Processing Image:1280/1832\n",
            "Processing Image:1300/1832\n",
            "Processing Image:1320/1832\n",
            "Processing Image:1340/1832\n",
            "Processing Image:1360/1832\n",
            "Processing Image:1380/1832\n",
            "Processing Image:1400/1832\n",
            "Processing Image:1420/1832\n",
            "Processing Image:1440/1832\n",
            "Processing Image:1460/1832\n",
            "Processing Image:1480/1832\n",
            "Processing Image:1500/1832\n",
            "Processing Image:1520/1832\n",
            "Processing Image:1540/1832\n",
            "Processing Image:1560/1832\n",
            "Processing Image:1580/1832\n",
            "Processing Image:1600/1832\n",
            "Processing Image:1620/1832\n",
            "Processing Image:1640/1832\n",
            "Processing Image:1660/1832\n",
            "Processing Image:1680/1832\n",
            "Processing Image:1720/1832\n",
            "Processing Image:1740/1832\n",
            "Processing Image:1760/1832\n",
            "Processing Image:1780/1832\n",
            "Processing Image:1800/1832\n",
            "Processing Image:1820/1832\n"
          ]
        }
      ],
      "source": [
        "# Load a random image from the images folder\n",
        "IMAGE_DIR=\"gdrive/My Drive/football_project/Football_Player_Recognition/data/raw\"\n",
        "OUTPUT_DIR=\"gdrive/My Drive/football_project/person_proposals\"\n",
        "!rm -rf \"gdrive/My Drive/football_project/person_proposals\"\n",
        "!mkdir \"gdrive/My Drive/football_project/person_proposals\"\n",
        "\n",
        "with open('gdrive/My Drive/football_project/raw_frame_selection_via_project.json') as f:\n",
        "    data = json.load(f)\n",
        "file_names = list(map(lambda val: val[\"filename\"], data[\"_via_img_metadata\"].values()))\n",
        "\n",
        "count = 0\n",
        "total_count = len(file_names)\n",
        "for fname in file_names:\n",
        "    count += 1\n",
        "    if (count%20==0):\n",
        "        print(\"Processing Image:\" + str(count) + \"/\" + str(total_count))\n",
        "    \n",
        "    image = skimage.io.imread(os.path.join(IMAGE_DIR, fname))\n",
        "    images = [image]\n",
        "    \n",
        "    # Run detection\n",
        "    results = model.detect(images)\n",
        "\n",
        "    # Visualize results\n",
        "    # r = results[0]\n",
        "    # visualize.display_instances(image, r['rois'], r['masks'], r['class_ids'], \n",
        "    #                             class_names, r['scores'])\n",
        "    # Output bounding boxes\n",
        "    person_idx = class_names.index('person')\n",
        "    confidence_threshold = 0.99\n",
        "    for i in range(0, len(results)):\n",
        "        class_ids = results[i][\"class_ids\"]\n",
        "        img = images[i]\n",
        "        \n",
        "        for j in range(0, len(class_ids)):\n",
        "            if class_ids[j] != person_idx:\n",
        "                continue\n",
        "            if results[i][\"scores\"][j] < confidence_threshold:\n",
        "                continue    \n",
        "            y1, x1, y2, x2 = results[i][\"rois\"][j]\n",
        "            y1 = int(max(0, y1))\n",
        "            x1 = int(max(0, x1))\n",
        "            y2 = int(min(img.shape[0], y2))\n",
        "            x2 = int(min(img.shape[1], x2))\n",
        "\n",
        "            # extract person bounding box region\n",
        "            extracted_region = img[y1:y2, x1:x2, :].copy()\n",
        "\n",
        "            height = y2 - y1\n",
        "            width = x2 - x1\n",
        "            top_row_pad, btm_row_pad, left_col_pad, right_col_pad = 0, 0, 0, 0\n",
        "            if height > width:\n",
        "                left_col_pad = int((height - width) / 2)\n",
        "                right_col_pad = height - width - left_col_pad\n",
        "            elif width > height:\n",
        "                top_row_pad = int((width - height) / 2)\n",
        "                btm_row_pad = width - height - left_col_pad\n",
        "\n",
        "            # pad to square shape\n",
        "            extracted_region = np.pad(extracted_region, ((top_row_pad, btm_row_pad), (left_col_pad, right_col_pad), (0, 0)), 'constant')\n",
        "            # resize to 256x256\n",
        "            pil_extracted_region = Image.fromarray(extracted_region).resize((256,256))\n",
        "            # save to OUTPUT_DIR\n",
        "            output_file_name = fname + '_bb' + str(j) + \".jpg\"\n",
        "            pil_extracted_region.save(os.path.join(OUTPUT_DIR, output_file_name))\n"
      ]
    },
    {
      "cell_type": "code",
      "execution_count": 0,
      "metadata": {
        "colab": {},
        "colab_type": "code",
        "id": "qa_b86j4tvzq"
      },
      "outputs": [],
      "source": [
        ""
      ]
    },
    {
      "cell_type": "code",
      "execution_count": 0,
      "metadata": {
        "colab": {},
        "colab_type": "code",
        "id": "PTtpH-SUtvzu"
      },
      "outputs": [],
      "source": [
        ""
      ]
    },
    {
      "cell_type": "code",
      "execution_count": 0,
      "metadata": {
        "colab": {},
        "colab_type": "code",
        "id": "JzGLt8xetvzw"
      },
      "outputs": [],
      "source": [
        ""
      ]
    }
  ]
}